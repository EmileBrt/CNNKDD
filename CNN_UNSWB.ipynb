{
 "cells": [
  {
   "cell_type": "code",
   "execution_count": 1,
   "metadata": {
    "pycharm": {
     "name": "#%%\n"
    }
   },
   "outputs": [
    {
     "name": "stderr",
     "output_type": "stream",
     "text": [
      "2023-02-21 11:34:49.195589: I tensorflow/core/platform/cpu_feature_guard.cc:193] This TensorFlow binary is optimized with oneAPI Deep Neural Network Library (oneDNN) to use the following CPU instructions in performance-critical operations:  AVX2 AVX512F FMA\n",
      "To enable them in other operations, rebuild TensorFlow with the appropriate compiler flags.\n",
      "2023-02-21 11:34:49.305685: W tensorflow/compiler/xla/stream_executor/platform/default/dso_loader.cc:64] Could not load dynamic library 'libcudart.so.11.0'; dlerror: libcudart.so.11.0: cannot open shared object file: No such file or directory\n",
      "2023-02-21 11:34:49.305701: I tensorflow/compiler/xla/stream_executor/cuda/cudart_stub.cc:29] Ignore above cudart dlerror if you do not have a GPU set up on your machine.\n",
      "2023-02-21 11:34:49.826120: W tensorflow/compiler/xla/stream_executor/platform/default/dso_loader.cc:64] Could not load dynamic library 'libnvinfer.so.7'; dlerror: libnvinfer.so.7: cannot open shared object file: No such file or directory\n",
      "2023-02-21 11:34:49.826163: W tensorflow/compiler/xla/stream_executor/platform/default/dso_loader.cc:64] Could not load dynamic library 'libnvinfer_plugin.so.7'; dlerror: libnvinfer_plugin.so.7: cannot open shared object file: No such file or directory\n",
      "2023-02-21 11:34:49.826168: W tensorflow/compiler/tf2tensorrt/utils/py_utils.cc:38] TF-TRT Warning: Cannot dlopen some TensorRT libraries. If you would like to use Nvidia GPU with TensorRT, please make sure the missing libraries mentioned above are installed properly.\n"
     ]
    }
   ],
   "source": [
    "import tensorflow as tf\n",
    "from tensorflow import keras\n",
    "import pandas as pd\n",
    "import numpy as np\n",
    "from sklearn.model_selection import train_test_split\n",
    "from tensorflow.python.client import device_lib\n",
    "from tensorflow.keras.models import Model\n",
    "\n",
    "# Make numpy values easier to read.\n",
    "np.set_printoptions(precision=3, suppress=True,threshold=np.inf)\n",
    "pd.options.display.max_rows = 999"
   ]
  },
  {
   "cell_type": "code",
   "execution_count": 2,
   "metadata": {
    "pycharm": {
     "name": "#%%\n"
    }
   },
   "outputs": [
    {
     "name": "stdout",
     "output_type": "stream",
     "text": [
      "{'tcp': 123041, 'udp': 92701, 'arp': 3846, 'ospf': 3271, 'icmp': 15, 'igmp': 48, 'rtp': 1, 'ddp': 132, 'ipv6-frag': 132, 'cftp': 132, 'wsn': 132, 'pvp': 132, 'wb-expak': 132, 'mtp': 132, 'pri-enc': 132, 'sat-mon': 132, 'cphb': 132, 'sun-nd': 255, 'iso-ip': 132, 'xtp': 132, 'il': 132, 'unas': 15599, 'mfe-nsp': 132, '3pc': 132, 'ipv6-route': 132, 'idrp': 132, 'bna': 132, 'swipe': 253, 'kryptolan': 132, 'cpnx': 132, 'rsvp': 264, 'wb-mon': 132, 'vmtp': 132, 'ib': 132, 'dgp': 132, 'eigrp': 132, 'ax.25': 132, 'gmtp': 132, 'pnni': 132, 'sep': 251, 'pgm': 132, 'idpr-cmtp': 132, 'zero': 132, 'rvd': 132, 'mobile': 253, 'narp': 132, 'fc': 132, 'pipe': 132, 'ipcomp': 132, 'ipv6-no': 132, 'sat-expak': 132, 'ipv6-opts': 132, 'snp': 132, 'ipcv': 132, 'br-sat-mon': 132, 'ttp': 132, 'tcf': 132, 'nsfnet-igp': 132, 'sprite-rpc': 132, 'aes-sp3-d': 132, 'sccopmce': 132, 'sctp': 1474, 'qnx': 132, 'scps': 132, 'etherip': 132, 'aris': 132, 'pim': 253, 'compaq-peer': 132, 'vrrp': 132, 'iatp': 132, 'stp': 132, 'l2tp': 132, 'srp': 132, 'sm': 132, 'isis': 132, 'smp': 132, 'fire': 132, 'ptp': 132, 'crtp': 131, 'sps': 132, 'merit-inp': 132, 'idpr': 132, 'skip': 132, 'any': 396, 'larp': 132, 'ipip': 132, 'micp': 132, 'encap': 132, 'ifmp': 132, 'tp++': 132, 'a/n': 132, 'ipv6': 262, 'i-nlsp': 132, 'ipx-n-ip': 132, 'sdrp': 132, 'tlsp': 132, 'gre': 313, 'mhrp': 132, 'ddx': 132, 'ippc': 132, 'visa': 132, 'secure-vmtp': 132, 'uti': 132, 'vines': 132, 'crudp': 132, 'iplt': 132, 'ggp': 132, 'ip': 132, 'ipnip': 132, 'st2': 132, 'argus': 131, 'bbn-rcc': 132, 'egp': 131, 'emcon': 132, 'igp': 132, 'nvp': 132, 'pup': 132, 'xnet': 132, 'chaos': 132, 'mux': 132, 'dcn': 132, 'hmp': 131, 'prm': 133, 'trunk-1': 132, 'xns-idp': 133, 'leaf-1': 133, 'leaf-2': 132, 'rdp': 131, 'irtp': 132, 'iso-tp4': 132, 'netblt': 131, 'trunk-2': 132, 'cbt': 132}\n",
      "{'zero': 132, 'xtp': 132, 'xns-idp': 133, 'xnet': 132, 'wsn': 132, 'wb-mon': 132, 'wb-expak': 132, 'vrrp': 132, 'vmtp': 132, 'visa': 132, 'vines': 132, 'uti': 132, 'unas': 15599, 'udp': 92701, 'ttp': 132, 'trunk-2': 132, 'trunk-1': 132, 'tp++': 132, 'tlsp': 132, 'tcp': 123041}\n",
      "(175341, 45)\n",
      "(82332, 45)\n",
      "(257673, 196)\n",
      "(193254, 36)\n",
      "(64419, 36)\n",
      "(193254, 6, 6)\n",
      "(64419, 6, 6)\n"
     ]
    }
   ],
   "source": [
    "from sklearn.preprocessing import StandardScaler\n",
    "from sklearn.decomposition import PCA\n",
    "\n",
    "df1 = pd.read_csv(\"UNSW_NB15_testing-set.csv\")\n",
    "df2 = pd.read_csv(\"UNSW_NB15_training-set.csv\")\n",
    "df = pd.concat([df1,df2])\n",
    "col2encode = [\"proto\",\"service\",\"state\"]\n",
    "\n",
    "proto_name = df[\"proto\"].unique()\n",
    "proto_count = df[\"proto\"].value_counts()\n",
    "d_proto = {}\n",
    "for p in proto_name:\n",
    "    d_proto.update({p:proto_count[p]})\n",
    "print(d_proto)\n",
    "n_value_to_extract = 20\n",
    "d_proto_20 = {}\n",
    "for i in range(n_value_to_extract):\n",
    "    d_proto_20.update({max(d_proto):d_proto[max(d_proto)]})\n",
    "    d_proto.pop(max(d_proto))\n",
    "print(d_proto_20)\n",
    "\n",
    "\n",
    "ohe_col = pd.get_dummies(df[col2encode],columns=col2encode)\n",
    "df = df.drop(columns=col2encode)\n",
    "df = df.drop(columns=[\"attack_cat\",\"id\"])\n",
    "df_ohe = pd.concat([df,ohe_col],axis=1)\n",
    "d_attack = {0:False,1:True}\n",
    "label = df_ohe[\"label\"].map(d_attack)\n",
    "df_ohe = df_ohe.drop(columns=[\"label\"])\n",
    "\n",
    "print(df1.shape)\n",
    "print(df2.shape)\n",
    "print(df_ohe.shape)\n",
    "\n",
    "X_train, X_test, y_train, y_test = train_test_split(df_ohe, label, test_size=0.25, random_state=42)\n",
    "\n",
    "scaler = StandardScaler()\n",
    "scaler.fit(X_train)\n",
    "X_sc_train = scaler.transform(X_train)\n",
    "X_sc_test = scaler.transform(X_test)\n",
    "\n",
    "NCOMPONENTS = 36\n",
    "\n",
    "pca = PCA(n_components=NCOMPONENTS)\n",
    "X_pca_train = pca.fit_transform(X_sc_train)\n",
    "X_pca_test = pca.transform(X_sc_test)\n",
    "\n",
    "print(X_pca_train.shape)\n",
    "print(X_pca_test.shape)\n",
    "\n",
    "X_pca_train  = X_pca_train.reshape(X_pca_train.shape[0],6,6)\n",
    "X_pca_test  = X_pca_test.reshape(X_pca_test.shape[0],6,6)\n",
    "\n",
    "print(X_pca_train.shape)\n",
    "print(X_pca_test.shape)\n"
   ]
  },
  {
   "cell_type": "code",
   "execution_count": 3,
   "metadata": {
    "pycharm": {
     "name": "#%%\n"
    }
   },
   "outputs": [
    {
     "name": "stderr",
     "output_type": "stream",
     "text": [
      "2023-02-21 11:34:56.807264: W tensorflow/compiler/xla/stream_executor/platform/default/dso_loader.cc:64] Could not load dynamic library 'libcudart.so.11.0'; dlerror: libcudart.so.11.0: cannot open shared object file: No such file or directory\n",
      "2023-02-21 11:34:56.807313: W tensorflow/compiler/xla/stream_executor/platform/default/dso_loader.cc:64] Could not load dynamic library 'libcublas.so.11'; dlerror: libcublas.so.11: cannot open shared object file: No such file or directory\n",
      "2023-02-21 11:34:56.807340: W tensorflow/compiler/xla/stream_executor/platform/default/dso_loader.cc:64] Could not load dynamic library 'libcublasLt.so.11'; dlerror: libcublasLt.so.11: cannot open shared object file: No such file or directory\n",
      "2023-02-21 11:34:56.807365: W tensorflow/compiler/xla/stream_executor/platform/default/dso_loader.cc:64] Could not load dynamic library 'libcufft.so.10'; dlerror: libcufft.so.10: cannot open shared object file: No such file or directory\n",
      "2023-02-21 11:34:56.807390: W tensorflow/compiler/xla/stream_executor/platform/default/dso_loader.cc:64] Could not load dynamic library 'libcurand.so.10'; dlerror: libcurand.so.10: cannot open shared object file: No such file or directory\n",
      "2023-02-21 11:34:56.807415: W tensorflow/compiler/xla/stream_executor/platform/default/dso_loader.cc:64] Could not load dynamic library 'libcusolver.so.11'; dlerror: libcusolver.so.11: cannot open shared object file: No such file or directory\n",
      "2023-02-21 11:34:56.807440: W tensorflow/compiler/xla/stream_executor/platform/default/dso_loader.cc:64] Could not load dynamic library 'libcusparse.so.11'; dlerror: libcusparse.so.11: cannot open shared object file: No such file or directory\n",
      "2023-02-21 11:34:56.807464: W tensorflow/compiler/xla/stream_executor/platform/default/dso_loader.cc:64] Could not load dynamic library 'libcudnn.so.8'; dlerror: libcudnn.so.8: cannot open shared object file: No such file or directory\n",
      "2023-02-21 11:34:56.807474: W tensorflow/core/common_runtime/gpu/gpu_device.cc:1934] Cannot dlopen some GPU libraries. Please make sure the missing libraries mentioned above are installed properly if you would like to use GPU. Follow the guide at https://www.tensorflow.org/install/gpu for how to download and setup the required libraries for your platform.\n",
      "Skipping registering GPU devices...\n",
      "2023-02-21 11:34:56.807675: I tensorflow/core/platform/cpu_feature_guard.cc:193] This TensorFlow binary is optimized with oneAPI Deep Neural Network Library (oneDNN) to use the following CPU instructions in performance-critical operations:  AVX2 AVX512F FMA\n",
      "To enable them in other operations, rebuild TensorFlow with the appropriate compiler flags.\n"
     ]
    },
    {
     "name": "stdout",
     "output_type": "stream",
     "text": [
      "WARNING:tensorflow:From /home/bertelem/Documents/env_python3/lib/python3.7/site-packages/tensorflow/python/autograph/pyct/static_analysis/liveness.py:83: Analyzer.lamba_check (from tensorflow.python.autograph.pyct.static_analysis.liveness) is deprecated and will be removed after 2023-09-23.\n",
      "Instructions for updating:\n",
      "Lambda fuctions will be no more assumed to be used in the statement where they are used, or at least in the same block. https://github.com/tensorflow/tensorflow/issues/56089\n",
      "Model: \"qkeras\"\n",
      "_________________________________________________________________\n",
      " Layer (type)                Output Shape              Param #   \n",
      "=================================================================\n",
      " input_1 (InputLayer)        [(None, 6, 6, 1)]         0         \n",
      "                                                                 \n",
      " fused_convbn (QConv2DBatchn  (None, 4, 4, 32)         449       \n",
      " orm)                                                            \n",
      "                                                                 \n",
      " conv_act1 (QActivation)     (None, 4, 4, 32)          0         \n",
      "                                                                 \n",
      " pool (MaxPooling2D)         (None, 2, 2, 32)          0         \n",
      "                                                                 \n",
      " flatten (Flatten)           (None, 128)               0         \n",
      "                                                                 \n",
      " bn_dense (BatchNormalizatio  (None, 128)              512       \n",
      " n)                                                              \n",
      "                                                                 \n",
      " output_dense (Dense)        (None, 1)                 129       \n",
      "                                                                 \n",
      "=================================================================\n",
      "Total params: 1,090\n",
      "Trainable params: 769\n",
      "Non-trainable params: 321\n",
      "_________________________________________________________________\n"
     ]
    }
   ],
   "source": [
    "\n",
    "from keras import Input\n",
    "from keras.regularizers import l1\n",
    "from keras.layers import MaxPooling2D, Flatten, BatchNormalization, Dense\n",
    "from qkeras import QConv2DBatchnorm, QActivation, QDense\n",
    "\n",
    "x = x_in = Input(shape=(6,6,1))\n",
    "\n",
    "x = QConv2DBatchnorm(32, kernel_size=(3,3), strides=(1,1),\n",
    "                     kernel_quantizer=\"quantized_bits(6,0,alpha=1)\",\n",
    "                     bias_quantizer=\"quantized_bits(6,0,alpha=1)\",\n",
    "                     kernel_initializer='lecun_uniform', kernel_regularizer=l1(0.0001), use_bias=True,\n",
    "                     name='fused_convbn')(x)\n",
    "x = QActivation('quantized_relu(6)',name='conv_act1')(x)\n",
    "x = MaxPooling2D(pool_size = (2,2),name='pool')(x)\n",
    "x = Flatten()(x)\n",
    "x = BatchNormalization(name='bn_dense')(x)\n",
    "x_out = Dense(1,\n",
    "           name='output_dense')(x)\n",
    "#x_out = Activation('softmax',name='output_softmax')(x)\n",
    "model = Model(inputs=[x_in], outputs=[x_out], name='qkeras')\n",
    "\n",
    "model.summary()"
   ]
  },
  {
   "cell_type": "code",
   "execution_count": 4,
   "metadata": {
    "pycharm": {
     "name": "#%%\n"
    }
   },
   "outputs": [
    {
     "name": "stdout",
     "output_type": "stream",
     "text": [
      "Epoch 1/10\n",
      "3020/3020 [==============================] - 23s 7ms/step - loss: 1.0043 - accuracy: 0.8164 - val_loss: 0.6103 - val_accuracy: 0.8701\n",
      "Epoch 2/10\n",
      "3020/3020 [==============================] - 23s 7ms/step - loss: 0.4630 - accuracy: 0.8659 - val_loss: 0.2714 - val_accuracy: 0.8884\n",
      "Epoch 3/10\n",
      "3020/3020 [==============================] - 22s 7ms/step - loss: 0.4715 - accuracy: 0.8754 - val_loss: 0.3062 - val_accuracy: 0.8771\n",
      "Epoch 4/10\n",
      "3020/3020 [==============================] - 22s 7ms/step - loss: 0.3287 - accuracy: 0.8801 - val_loss: 0.2285 - val_accuracy: 0.8931\n",
      "Epoch 5/10\n",
      "3020/3020 [==============================] - 22s 7ms/step - loss: 0.8414 - accuracy: 0.8471 - val_loss: 1.8392 - val_accuracy: 0.7439\n",
      "Epoch 6/10\n",
      "3020/3020 [==============================] - 22s 7ms/step - loss: 2.0508 - accuracy: 0.7340 - val_loss: 2.8643 - val_accuracy: 0.6776\n",
      "Epoch 7/10\n",
      "3020/3020 [==============================] - 21s 7ms/step - loss: 1.7422 - accuracy: 0.7765 - val_loss: 0.5141 - val_accuracy: 0.8789\n",
      "Epoch 8/10\n",
      "3020/3020 [==============================] - 21s 7ms/step - loss: 0.4402 - accuracy: 0.8759 - val_loss: 0.4346 - val_accuracy: 0.8762\n",
      "Epoch 9/10\n",
      "3020/3020 [==============================] - 22s 7ms/step - loss: 0.3105 - accuracy: 0.8820 - val_loss: 0.2657 - val_accuracy: 0.8878\n",
      "Epoch 10/10\n",
      "3020/3020 [==============================] - 22s 7ms/step - loss: 0.2771 - accuracy: 0.8859 - val_loss: 0.2198 - val_accuracy: 0.8936\n"
     ]
    },
    {
     "data": {
      "text/plain": [
       "<keras.callbacks.History at 0x7f2040577208>"
      ]
     },
     "execution_count": 4,
     "metadata": {},
     "output_type": "execute_result"
    }
   ],
   "source": [
    "model.compile(\n",
    "    optimizer=keras.optimizers.Adam(learning_rate=1e-3),\n",
    "    loss=keras.losses.BinaryCrossentropy(),\n",
    "    metrics =['accuracy']\n",
    ")\n",
    "\n",
    "model.fit(X_pca_train, y_train, batch_size=64, epochs=10,validation_data=(X_pca_test,y_test))"
   ]
  },
  {
   "cell_type": "code",
   "execution_count": 5,
   "metadata": {},
   "outputs": [],
   "source": [
    "from tensorflow_model_optimization.sparsity.keras import strip_pruning\n",
    "from tensorflow_model_optimization.python.core.sparsity.keras import pruning_wrapper\n",
    "from qkeras.utils import _add_supported_quantized_objects\n",
    "\n",
    "co = {}\n",
    "_add_supported_quantized_objects(co)\n",
    "co['PruneLowMagnitude'] = pruning_wrapper.PruneLowMagnitude\n",
    "\n",
    "qmodel  = strip_pruning(model)"
   ]
  },
  {
   "cell_type": "code",
   "execution_count": 6,
   "metadata": {},
   "outputs": [
    {
     "name": "stdout",
     "output_type": "stream",
     "text": [
      "Interpreting Model\n",
      "Topology:\n",
      "Layer name: input_1, layer type: Input\n",
      "Layer name: fused_convbn, layer type: QConv2DBatchnorm\n",
      "Layer name: conv_act1, layer type: QActivation\n",
      "Layer name: pool, layer type: MaxPooling2D\n",
      "Layer name: bn_dense, layer type: BatchNormalization\n",
      "Layer name: output_dense, layer type: Dense\n",
      "  -> Activation (linear), layer name: output_dense\n",
      "Interpreting Model\n",
      "Topology:\n",
      "Layer name: input_1, layer type: InputLayer, input shapes: [[None, 6, 6, 1]], output shape: [None, 6, 6, 1]\n",
      "Layer name: fused_convbn, layer type: QConv2DBatchnorm, input shapes: [[None, 6, 6, 1]], output shape: [None, 4, 4, 32]\n",
      "Layer name: conv_act1, layer type: Activation, input shapes: [[None, 4, 4, 32]], output shape: [None, 4, 4, 32]\n",
      "Layer name: pool, layer type: MaxPooling2D, input shapes: [[None, 4, 4, 32]], output shape: [None, 2, 2, 32]\n",
      "Layer name: flatten, layer type: Reshape, input shapes: [[None, 2, 2, 32]], output shape: [None, 128]\n",
      "Layer name: bn_dense, layer type: BatchNormalization, input shapes: [[None, 128]], output shape: [None, 128]\n",
      "Layer name: output_dense, layer type: Dense, input shapes: [[None, 128]], output shape: [None, 1]\n",
      "Creating HLS model\n",
      "Writing HLS project\n",
      "WARNING:tensorflow:Compiled the loaded model, but the compiled metrics have yet to be built. `model.compile_metrics` will be empty until you train or evaluate the model.\n"
     ]
    },
    {
     "name": "stderr",
     "output_type": "stream",
     "text": [
      "/home/bertelem/Documents/env_python3/lib/python3.7/site-packages/hls4ml/converters/__init__.py:16: UserWarning: WARNING: Pytorch converter is not enabled!\n",
      "  warnings.warn(\"WARNING: Pytorch converter is not enabled!\")\n"
     ]
    },
    {
     "name": "stdout",
     "output_type": "stream",
     "text": [
      "Done\n"
     ]
    }
   ],
   "source": [
    "import hls4ml\n",
    "import plotting\n",
    "import os\n",
    "\n",
    "os.environ['PATH'] = '/opt/Xilinx/Vivado/2019.2/bin:' + os.environ['PATH']\n",
    "\n",
    "# Then the QKeras model\n",
    "hls4ml.model.optimizer.OutputRoundingSaturationMode.layers = ['Activation']\n",
    "hls4ml.model.optimizer.OutputRoundingSaturationMode.rounding_mode = 'AP_RND'\n",
    "hls4ml.model.optimizer.OutputRoundingSaturationMode.saturation_mode = 'AP_SAT'\n",
    "\n",
    "hls_config_q = hls4ml.utils.config_from_keras_model(qmodel, granularity='name')\n",
    "hls_config_q['Model']['ReuseFactor'] = 1\n",
    "hls_config_q['Model']['Precision'] = 'ap_fixed<6,0>'\n",
    "  \n",
    "cfg_q = hls4ml.converters.create_config(backend='Vivado')\n",
    "cfg_q['IOType']     = 'io_stream' # Must set this if using CNNs!\n",
    "cfg_q['HLSConfig']  = hls_config_q\n",
    "cfg_q['KerasModel'] = qmodel\n",
    "cfg_q['OutputDir']  = 'quantized_pruned_cnn/'\n",
    "cfg_q['XilinxPart'] = 'xc7z020clg484-1'\n",
    "cfg_q['ClockPeriod'] = 10\n",
    "  \n",
    "hls_model_q = hls4ml.converters.keras_to_hls(cfg_q)\n",
    "hls_model_q.compile()\n"
   ]
  },
  {
   "cell_type": "code",
   "execution_count": 7,
   "metadata": {},
   "outputs": [
    {
     "name": "stdout",
     "output_type": "stream",
     "text": [
      "Evaluate normal\n",
      "32/32 [==============================] - 0s 3ms/step - loss: 0.2247 - accuracy: 0.9010\n",
      "test acc: [0.22474217414855957, 0.9010000228881836]\n",
      "Evaluate prunning\n"
     ]
    },
    {
     "ename": "RuntimeError",
     "evalue": "You must compile your model before training/testing. Use `model.compile(optimizer, loss)`.",
     "output_type": "error",
     "traceback": [
      "\u001b[0;31m---------------------------------------------------------------------------\u001b[0m",
      "\u001b[0;31mRuntimeError\u001b[0m                              Traceback (most recent call last)",
      "\u001b[0;32m/tmp/ipykernel_14349/1845927126.py\u001b[0m in \u001b[0;36m<module>\u001b[0;34m\u001b[0m\n\u001b[1;32m      6\u001b[0m \u001b[0;31m### PREDICT PRUNE\u001b[0m\u001b[0;34m\u001b[0m\u001b[0;34m\u001b[0m\u001b[0;34m\u001b[0m\u001b[0m\n\u001b[1;32m      7\u001b[0m \u001b[0mprint\u001b[0m\u001b[0;34m(\u001b[0m\u001b[0;34m\"Evaluate prunning\"\u001b[0m\u001b[0;34m)\u001b[0m\u001b[0;34m\u001b[0m\u001b[0;34m\u001b[0m\u001b[0m\n\u001b[0;32m----> 8\u001b[0;31m \u001b[0mresults\u001b[0m \u001b[0;34m=\u001b[0m \u001b[0mqmodel\u001b[0m\u001b[0;34m.\u001b[0m\u001b[0mevaluate\u001b[0m\u001b[0;34m(\u001b[0m\u001b[0mX_pca_test\u001b[0m\u001b[0;34m[\u001b[0m\u001b[0;34m:\u001b[0m\u001b[0;36m1000\u001b[0m\u001b[0;34m]\u001b[0m\u001b[0;34m,\u001b[0m \u001b[0my_test\u001b[0m\u001b[0;34m[\u001b[0m\u001b[0;34m:\u001b[0m\u001b[0;36m1000\u001b[0m\u001b[0;34m]\u001b[0m\u001b[0;34m)\u001b[0m\u001b[0;34m\u001b[0m\u001b[0;34m\u001b[0m\u001b[0m\n\u001b[0m\u001b[1;32m      9\u001b[0m \u001b[0mprint\u001b[0m\u001b[0;34m(\u001b[0m\u001b[0;34m\"test acc:\"\u001b[0m\u001b[0;34m,\u001b[0m \u001b[0mresults\u001b[0m\u001b[0;34m)\u001b[0m\u001b[0;34m\u001b[0m\u001b[0;34m\u001b[0m\u001b[0m\n\u001b[1;32m     10\u001b[0m \u001b[0;34m\u001b[0m\u001b[0m\n",
      "\u001b[0;32m~/Documents/env_python3/lib/python3.7/site-packages/keras/utils/traceback_utils.py\u001b[0m in \u001b[0;36merror_handler\u001b[0;34m(*args, **kwargs)\u001b[0m\n\u001b[1;32m     68\u001b[0m             \u001b[0;31m# To get the full stack trace, call:\u001b[0m\u001b[0;34m\u001b[0m\u001b[0;34m\u001b[0m\u001b[0;34m\u001b[0m\u001b[0m\n\u001b[1;32m     69\u001b[0m             \u001b[0;31m# `tf.debugging.disable_traceback_filtering()`\u001b[0m\u001b[0;34m\u001b[0m\u001b[0;34m\u001b[0m\u001b[0;34m\u001b[0m\u001b[0m\n\u001b[0;32m---> 70\u001b[0;31m             \u001b[0;32mraise\u001b[0m \u001b[0me\u001b[0m\u001b[0;34m.\u001b[0m\u001b[0mwith_traceback\u001b[0m\u001b[0;34m(\u001b[0m\u001b[0mfiltered_tb\u001b[0m\u001b[0;34m)\u001b[0m \u001b[0;32mfrom\u001b[0m \u001b[0;32mNone\u001b[0m\u001b[0;34m\u001b[0m\u001b[0;34m\u001b[0m\u001b[0m\n\u001b[0m\u001b[1;32m     71\u001b[0m         \u001b[0;32mfinally\u001b[0m\u001b[0;34m:\u001b[0m\u001b[0;34m\u001b[0m\u001b[0;34m\u001b[0m\u001b[0m\n\u001b[1;32m     72\u001b[0m             \u001b[0;32mdel\u001b[0m \u001b[0mfiltered_tb\u001b[0m\u001b[0;34m\u001b[0m\u001b[0;34m\u001b[0m\u001b[0m\n",
      "\u001b[0;32m~/Documents/env_python3/lib/python3.7/site-packages/keras/engine/training.py\u001b[0m in \u001b[0;36m_assert_compile_was_called\u001b[0;34m(self)\u001b[0m\n\u001b[1;32m   3689\u001b[0m         \u001b[0;32mif\u001b[0m \u001b[0;32mnot\u001b[0m \u001b[0mself\u001b[0m\u001b[0;34m.\u001b[0m\u001b[0m_is_compiled\u001b[0m\u001b[0;34m:\u001b[0m\u001b[0;34m\u001b[0m\u001b[0;34m\u001b[0m\u001b[0m\n\u001b[1;32m   3690\u001b[0m             raise RuntimeError(\n\u001b[0;32m-> 3691\u001b[0;31m                 \u001b[0;34m\"You must compile your model before \"\u001b[0m\u001b[0;34m\u001b[0m\u001b[0;34m\u001b[0m\u001b[0m\n\u001b[0m\u001b[1;32m   3692\u001b[0m                 \u001b[0;34m\"training/testing. \"\u001b[0m\u001b[0;34m\u001b[0m\u001b[0;34m\u001b[0m\u001b[0m\n\u001b[1;32m   3693\u001b[0m                 \u001b[0;34m\"Use `model.compile(optimizer, loss)`.\"\u001b[0m\u001b[0;34m\u001b[0m\u001b[0;34m\u001b[0m\u001b[0m\n",
      "\u001b[0;31mRuntimeError\u001b[0m: You must compile your model before training/testing. Use `model.compile(optimizer, loss)`."
     ]
    }
   ],
   "source": [
    "### PREDICT \n",
    "print(\"Evaluate normal\")\n",
    "results = model.evaluate(X_pca_test[:1000], y_test[:1000])\n",
    "print(\"test acc:\", results)\n",
    "\n",
    "### PREDICT PRUNE\n",
    "print(\"Evaluate prunning\")\n",
    "results = qmodel.evaluate(X_pca_test[:1000], y_test[:1000])\n",
    "print(\"test acc:\", results)\n",
    "\n",
    "### PREDICT HLS\n",
    "print(\"Evaluate HLS\")\n",
    "results_hls = hls_model_q.evaluate(X_pca_test, y_test)\n",
    "print(\"test acc:\", results)"
   ]
  },
  {
   "cell_type": "code",
   "execution_count": null,
   "metadata": {},
   "outputs": [],
   "source": [
    "hls_model_q.build(csim=False, synth=True, vsynth=True)"
   ]
  },
  {
   "cell_type": "code",
   "execution_count": null,
   "metadata": {},
   "outputs": [],
   "source": [
    "hls4ml.report.read_vivado_report('quantized_pruned_cnn/myproject_prj/solution1')"
   ]
  },
  {
   "cell_type": "code",
   "execution_count": null,
   "metadata": {},
   "outputs": [],
   "source": []
  }
 ],
 "metadata": {
  "kernelspec": {
   "display_name": "Python 3 (ipykernel)",
   "language": "python",
   "name": "python3"
  },
  "language_info": {
   "codemirror_mode": {
    "name": "ipython",
    "version": 3
   },
   "file_extension": ".py",
   "mimetype": "text/x-python",
   "name": "python",
   "nbconvert_exporter": "python",
   "pygments_lexer": "ipython3",
   "version": "3.7.3"
  }
 },
 "nbformat": 4,
 "nbformat_minor": 1
}
