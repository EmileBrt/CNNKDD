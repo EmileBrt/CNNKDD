{
 "cells": [
  {
   "cell_type": "code",
   "execution_count": 1,
   "metadata": {
    "pycharm": {
     "name": "#%%\n"
    }
   },
   "outputs": [
    {
     "name": "stderr",
     "output_type": "stream",
     "text": [
      "2023-02-21 11:41:44.367896: I tensorflow/core/platform/cpu_feature_guard.cc:193] This TensorFlow binary is optimized with oneAPI Deep Neural Network Library (oneDNN) to use the following CPU instructions in performance-critical operations:  AVX2 AVX512F FMA\n",
      "To enable them in other operations, rebuild TensorFlow with the appropriate compiler flags.\n",
      "2023-02-21 11:41:44.474044: W tensorflow/compiler/xla/stream_executor/platform/default/dso_loader.cc:64] Could not load dynamic library 'libcudart.so.11.0'; dlerror: libcudart.so.11.0: cannot open shared object file: No such file or directory\n",
      "2023-02-21 11:41:44.474061: I tensorflow/compiler/xla/stream_executor/cuda/cudart_stub.cc:29] Ignore above cudart dlerror if you do not have a GPU set up on your machine.\n",
      "2023-02-21 11:41:45.004577: W tensorflow/compiler/xla/stream_executor/platform/default/dso_loader.cc:64] Could not load dynamic library 'libnvinfer.so.7'; dlerror: libnvinfer.so.7: cannot open shared object file: No such file or directory\n",
      "2023-02-21 11:41:45.004618: W tensorflow/compiler/xla/stream_executor/platform/default/dso_loader.cc:64] Could not load dynamic library 'libnvinfer_plugin.so.7'; dlerror: libnvinfer_plugin.so.7: cannot open shared object file: No such file or directory\n",
      "2023-02-21 11:41:45.004623: W tensorflow/compiler/tf2tensorrt/utils/py_utils.cc:38] TF-TRT Warning: Cannot dlopen some TensorRT libraries. If you would like to use Nvidia GPU with TensorRT, please make sure the missing libraries mentioned above are installed properly.\n"
     ]
    }
   ],
   "source": [
    "import tensorflow as tf\n",
    "from tensorflow import keras\n",
    "import pandas as pd\n",
    "import numpy as np\n",
    "from sklearn.model_selection import train_test_split\n",
    "from tensorflow.python.client import device_lib\n",
    "from tensorflow.keras.models import Model\n",
    "\n",
    "# Make numpy values easier to read.\n",
    "np.set_printoptions(precision=3, suppress=True,threshold=np.inf)\n",
    "pd.options.display.max_rows = 999"
   ]
  },
  {
   "cell_type": "code",
   "execution_count": 2,
   "metadata": {
    "pycharm": {
     "name": "#%%\n"
    }
   },
   "outputs": [
    {
     "name": "stdout",
     "output_type": "stream",
     "text": [
      "(370515, 36)\n",
      "(123505, 36)\n",
      "(370515, 6, 6)\n",
      "(123505, 6, 6)\n"
     ]
    }
   ],
   "source": [
    "from sklearn.preprocessing import StandardScaler\n",
    "from sklearn.decomposition import PCA\n",
    "\n",
    "df = pd.read_csv(\"kddcup99_csv.csv\")\n",
    "col2encode = [\"protocol_type\",\"service\",\"flag\"]\n",
    "ohe_col = pd.get_dummies(df[col2encode],columns=col2encode)\n",
    "df = df.drop(columns=col2encode)\n",
    "df_ohe = pd.concat([df,ohe_col],axis=1)\n",
    "\n",
    "attack_values = df[\"label\"].unique()\n",
    "\n",
    "label = pd.get_dummies(df_ohe[\"label\"],columns=\"label\")\n",
    "df_ohe = df_ohe.drop(columns=\"label\",axis=1)\n",
    "\n",
    "X_train, X_test, y_train, y_test = train_test_split(df_ohe, label, test_size=0.25, random_state=42)\n",
    "\n",
    "scaler = StandardScaler()\n",
    "scaler.fit(X_train)\n",
    "X_sc_train = scaler.transform(X_train)\n",
    "X_sc_test = scaler.transform(X_test)\n",
    "\n",
    "NCOMPONENTS = 36\n",
    "\n",
    "pca = PCA(n_components=NCOMPONENTS)\n",
    "X_pca_train = pca.fit_transform(X_sc_train)\n",
    "X_pca_test = pca.transform(X_sc_test)\n",
    "\n",
    "print(X_pca_train.shape)\n",
    "print(X_pca_test.shape)\n",
    "\n",
    "X_pca_train  = X_pca_train.reshape(X_pca_train.shape[0],6,6)\n",
    "X_pca_test  = X_pca_test.reshape(X_pca_test.shape[0],6,6)\n",
    "\n",
    "print(X_pca_train.shape)\n",
    "print(X_pca_test.shape)\n"
   ]
  },
  {
   "cell_type": "code",
   "execution_count": 3,
   "metadata": {
    "pycharm": {
     "name": "#%%\n"
    }
   },
   "outputs": [
    {
     "name": "stderr",
     "output_type": "stream",
     "text": [
      "2023-02-21 11:41:54.032354: W tensorflow/compiler/xla/stream_executor/platform/default/dso_loader.cc:64] Could not load dynamic library 'libcudart.so.11.0'; dlerror: libcudart.so.11.0: cannot open shared object file: No such file or directory\n",
      "2023-02-21 11:41:54.032420: W tensorflow/compiler/xla/stream_executor/platform/default/dso_loader.cc:64] Could not load dynamic library 'libcublas.so.11'; dlerror: libcublas.so.11: cannot open shared object file: No such file or directory\n",
      "2023-02-21 11:41:54.032446: W tensorflow/compiler/xla/stream_executor/platform/default/dso_loader.cc:64] Could not load dynamic library 'libcublasLt.so.11'; dlerror: libcublasLt.so.11: cannot open shared object file: No such file or directory\n",
      "2023-02-21 11:41:54.032472: W tensorflow/compiler/xla/stream_executor/platform/default/dso_loader.cc:64] Could not load dynamic library 'libcufft.so.10'; dlerror: libcufft.so.10: cannot open shared object file: No such file or directory\n",
      "2023-02-21 11:41:54.032498: W tensorflow/compiler/xla/stream_executor/platform/default/dso_loader.cc:64] Could not load dynamic library 'libcurand.so.10'; dlerror: libcurand.so.10: cannot open shared object file: No such file or directory\n",
      "2023-02-21 11:41:54.032523: W tensorflow/compiler/xla/stream_executor/platform/default/dso_loader.cc:64] Could not load dynamic library 'libcusolver.so.11'; dlerror: libcusolver.so.11: cannot open shared object file: No such file or directory\n",
      "2023-02-21 11:41:54.032557: W tensorflow/compiler/xla/stream_executor/platform/default/dso_loader.cc:64] Could not load dynamic library 'libcusparse.so.11'; dlerror: libcusparse.so.11: cannot open shared object file: No such file or directory\n",
      "2023-02-21 11:41:54.032581: W tensorflow/compiler/xla/stream_executor/platform/default/dso_loader.cc:64] Could not load dynamic library 'libcudnn.so.8'; dlerror: libcudnn.so.8: cannot open shared object file: No such file or directory\n",
      "2023-02-21 11:41:54.032591: W tensorflow/core/common_runtime/gpu/gpu_device.cc:1934] Cannot dlopen some GPU libraries. Please make sure the missing libraries mentioned above are installed properly if you would like to use GPU. Follow the guide at https://www.tensorflow.org/install/gpu for how to download and setup the required libraries for your platform.\n",
      "Skipping registering GPU devices...\n",
      "2023-02-21 11:41:54.032779: I tensorflow/core/platform/cpu_feature_guard.cc:193] This TensorFlow binary is optimized with oneAPI Deep Neural Network Library (oneDNN) to use the following CPU instructions in performance-critical operations:  AVX2 AVX512F FMA\n",
      "To enable them in other operations, rebuild TensorFlow with the appropriate compiler flags.\n"
     ]
    },
    {
     "name": "stdout",
     "output_type": "stream",
     "text": [
      "WARNING:tensorflow:From /home/bertelem/Documents/env_python3/lib/python3.7/site-packages/tensorflow/python/autograph/pyct/static_analysis/liveness.py:83: Analyzer.lamba_check (from tensorflow.python.autograph.pyct.static_analysis.liveness) is deprecated and will be removed after 2023-09-23.\n",
      "Instructions for updating:\n",
      "Lambda fuctions will be no more assumed to be used in the statement where they are used, or at least in the same block. https://github.com/tensorflow/tensorflow/issues/56089\n",
      "Model: \"qkeras\"\n",
      "_________________________________________________________________\n",
      " Layer (type)                Output Shape              Param #   \n",
      "=================================================================\n",
      " input_1 (InputLayer)        [(None, 6, 6, 1)]         0         \n",
      "                                                                 \n",
      " fused_convbn (QConv2DBatchn  (None, 4, 4, 32)         449       \n",
      " orm)                                                            \n",
      "                                                                 \n",
      " conv_act1 (QActivation)     (None, 4, 4, 32)          0         \n",
      "                                                                 \n",
      " pool (MaxPooling2D)         (None, 2, 2, 32)          0         \n",
      "                                                                 \n",
      " flatten (Flatten)           (None, 128)               0         \n",
      "                                                                 \n",
      " bn_dense (BatchNormalizatio  (None, 128)              512       \n",
      " n)                                                              \n",
      "                                                                 \n",
      " output_dense (Dense)        (None, 23)                2967      \n",
      "                                                                 \n",
      "=================================================================\n",
      "Total params: 3,928\n",
      "Trainable params: 3,607\n",
      "Non-trainable params: 321\n",
      "_________________________________________________________________\n"
     ]
    }
   ],
   "source": [
    "\n",
    "from keras import Input\n",
    "from keras.regularizers import l1\n",
    "from keras.layers import MaxPooling2D, Flatten, BatchNormalization, Dense\n",
    "from qkeras import QConv2DBatchnorm, QActivation, QDense\n",
    "\n",
    "x = x_in = Input(shape=(6,6,1))\n",
    "\n",
    "x = QConv2DBatchnorm(32, kernel_size=(3,3), strides=(1,1),\n",
    "                     kernel_quantizer=\"quantized_bits(6,0,alpha=1)\",\n",
    "                     bias_quantizer=\"quantized_bits(6,0,alpha=1)\",\n",
    "                     kernel_initializer='lecun_uniform', kernel_regularizer=l1(0.0001), use_bias=True,\n",
    "                     name='fused_convbn')(x)\n",
    "x = QActivation('quantized_relu(6)',name='conv_act1')(x)\n",
    "x = MaxPooling2D(pool_size = (2,2),name='pool')(x)\n",
    "x = Flatten()(x)\n",
    "x = BatchNormalization(name='bn_dense')(x)\n",
    "x_out = Dense(len(attack_values),\n",
    "           name='output_dense')(x)\n",
    "#x_out = Activation('softmax',name='output_softmax')(x)\n",
    "model = Model(inputs=[x_in], outputs=[x_out], name='qkeras')\n",
    "\n",
    "model.summary()"
   ]
  },
  {
   "cell_type": "code",
   "execution_count": 6,
   "metadata": {
    "pycharm": {
     "name": "#%%\n"
    }
   },
   "outputs": [
    {
     "name": "stdout",
     "output_type": "stream",
     "text": [
      "Epoch 1/10\n",
      "5790/5790 [==============================] - 45s 8ms/step - loss: 14.3144 - accuracy: 0.1213 - val_loss: 14.7645 - val_accuracy: 0.0463\n",
      "Epoch 2/10\n",
      "5790/5790 [==============================] - 44s 8ms/step - loss: 14.0869 - accuracy: 0.0900 - val_loss: 14.9240 - val_accuracy: 0.1018\n",
      "Epoch 3/10\n",
      "5790/5790 [==============================] - 44s 8ms/step - loss: 14.3950 - accuracy: 0.0978 - val_loss: 14.9377 - val_accuracy: 0.0690\n",
      "Epoch 4/10\n",
      "5790/5790 [==============================] - 43s 8ms/step - loss: 9.9905 - accuracy: 0.0684 - val_loss: 5.9474 - val_accuracy: 0.0878\n",
      "Epoch 5/10\n",
      "5790/5790 [==============================] - 44s 8ms/step - loss: 8.4367 - accuracy: 0.0896 - val_loss: 4.0896 - val_accuracy: 0.1092\n",
      "Epoch 6/10\n",
      "5790/5790 [==============================] - 43s 7ms/step - loss: 6.8704 - accuracy: 0.1111 - val_loss: 13.2505 - val_accuracy: 0.0805\n",
      "Epoch 7/10\n",
      "5790/5790 [==============================] - 44s 8ms/step - loss: 8.5118 - accuracy: 0.1514 - val_loss: 15.3804 - val_accuracy: 0.0802\n",
      "Epoch 8/10\n",
      "5790/5790 [==============================] - 43s 7ms/step - loss: 14.3066 - accuracy: 0.0995 - val_loss: 14.3211 - val_accuracy: 0.0730\n",
      "Epoch 9/10\n",
      "5790/5790 [==============================] - 44s 8ms/step - loss: 13.0564 - accuracy: 0.1078 - val_loss: 4.4548 - val_accuracy: 0.1131\n",
      "Epoch 10/10\n",
      "5790/5790 [==============================] - 44s 8ms/step - loss: 13.2128 - accuracy: 0.1304 - val_loss: 13.9958 - val_accuracy: 0.2750\n"
     ]
    },
    {
     "data": {
      "text/plain": [
       "<keras.callbacks.History at 0x7ff3f4251710>"
      ]
     },
     "execution_count": 6,
     "metadata": {},
     "output_type": "execute_result"
    }
   ],
   "source": [
    "model.compile(\n",
    "    optimizer=keras.optimizers.Adam(learning_rate=1e-3),\n",
    "    loss=tf.keras.losses.CategoricalCrossentropy(),\n",
    "    metrics =['accuracy']\n",
    ")\n",
    "\n",
    "model.fit(X_pca_train, y_train, batch_size=64, epochs=10,validation_data=(X_pca_test,y_test))"
   ]
  },
  {
   "cell_type": "code",
   "execution_count": 7,
   "metadata": {
    "pycharm": {
     "name": "#%%\n"
    }
   },
   "outputs": [
    {
     "name": "stdout",
     "output_type": "stream",
     "text": [
      "Evaluate on test data\n",
      "3860/3860 [==============================] - 11s 3ms/step - loss: 13.9963 - accuracy: 0.2750\n",
      "test acc: [13.99626636505127, 0.2750495970249176]\n"
     ]
    }
   ],
   "source": [
    "print(\"Evaluate on test data\")\n",
    "results = model.evaluate(X_pca_test, y_test)\n",
    "print(\"test acc:\", results)\n",
    "#model.save(\"model3\")\n"
   ]
  },
  {
   "cell_type": "code",
   "execution_count": null,
   "metadata": {},
   "outputs": [],
   "source": [
    "from tensorflow_model_optimization.sparsity.keras import strip_pruning\n",
    "from tensorflow_model_optimization.python.core.sparsity.keras import pruning_wrapper\n",
    "from qkeras.utils import _add_supported_quantized_objects\n",
    "\n",
    "co = {}\n",
    "_add_supported_quantized_objects(co)\n",
    "co['PruneLowMagnitude'] = pruning_wrapper.PruneLowMagnitude\n",
    "\n",
    "qmodel  = strip_pruning(model)"
   ]
  },
  {
   "cell_type": "code",
   "execution_count": null,
   "metadata": {},
   "outputs": [],
   "source": [
    "import hls4ml\n",
    "import plotting\n",
    "import os\n",
    "\n",
    "os.environ['PATH'] = '/opt/Xilinx/Vivado/2019.2/bin:' + os.environ['PATH']\n",
    "\n",
    "# Then the QKeras model\n",
    "hls4ml.model.optimizer.OutputRoundingSaturationMode.layers = ['Activation']\n",
    "hls4ml.model.optimizer.OutputRoundingSaturationMode.rounding_mode = 'AP_RND'\n",
    "hls4ml.model.optimizer.OutputRoundingSaturationMode.saturation_mode = 'AP_SAT'\n",
    "\n",
    "hls_config_q = hls4ml.utils.config_from_keras_model(qmodel, granularity='name')\n",
    "hls_config_q['Model']['ReuseFactor'] = 1\n",
    "hls_config_q['Model']['Precision'] = 'ap_fixed<6,0>'\n",
    "  \n",
    "cfg_q = hls4ml.converters.create_config(backend='Vivado')\n",
    "cfg_q['IOType']     = 'io_stream' # Must set this if using CNNs!\n",
    "cfg_q['HLSConfig']  = hls_config_q\n",
    "cfg_q['KerasModel'] = qmodel\n",
    "cfg_q['OutputDir']  = 'quantized_pruned_cnn_multi/'\n",
    "cfg_q['XilinxPart'] = 'xc7z020clg484-1'\n",
    "  \n",
    "hls_model_q = hls4ml.converters.keras_to_hls(cfg_q)\n",
    "hls_model_q.compile()"
   ]
  },
  {
   "cell_type": "code",
   "execution_count": null,
   "metadata": {},
   "outputs": [],
   "source": [
    "hls_model_q.build(csim=False, synth=True, vsynth=True)"
   ]
  },
  {
   "cell_type": "code",
   "execution_count": null,
   "metadata": {},
   "outputs": [],
   "source": [
    "print('Build DONE')"
   ]
  }
 ],
 "metadata": {
  "kernelspec": {
   "display_name": "Python 3 (ipykernel)",
   "language": "python",
   "name": "python3"
  },
  "language_info": {
   "codemirror_mode": {
    "name": "ipython",
    "version": 3
   },
   "file_extension": ".py",
   "mimetype": "text/x-python",
   "name": "python",
   "nbconvert_exporter": "python",
   "pygments_lexer": "ipython3",
   "version": "3.7.3"
  }
 },
 "nbformat": 4,
 "nbformat_minor": 1
}
